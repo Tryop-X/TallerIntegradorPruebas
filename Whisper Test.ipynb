{
 "cells": [
  {
   "cell_type": "code",
   "execution_count": 1,
   "id": "819d4991",
   "metadata": {
    "scrolled": true
   },
   "outputs": [
    {
     "name": "stdout",
     "output_type": "stream",
     "text": [
      "Defaulting to user installation because normal site-packages is not writeable\n",
      "Collecting git+https://github.com/openai/whisper.git\n",
      "  Cloning https://github.com/openai/whisper.git to c:\\users\\hugo1\\appdata\\local\\temp\\pip-req-build-2_ih98xv\n",
      "  Resolved https://github.com/openai/whisper.git to commit 0a60fcaa9b86748389a656aa013c416030287d47\n",
      "  Installing build dependencies: started\n",
      "  Installing build dependencies: finished with status 'done'\n",
      "  Getting requirements to build wheel: started\n",
      "  Getting requirements to build wheel: finished with status 'done'\n",
      "  Preparing metadata (pyproject.toml): started\n",
      "  Preparing metadata (pyproject.toml): finished with status 'done'\n",
      "Requirement already satisfied: numba in c:\\programdata\\anaconda3\\lib\\site-packages (from openai-whisper==20230918) (0.55.1)\n",
      "Requirement already satisfied: numpy in c:\\programdata\\anaconda3\\lib\\site-packages (from openai-whisper==20230918) (1.21.5)\n",
      "Collecting torch (from openai-whisper==20230918)\n",
      "  Downloading torch-2.0.1-cp39-cp39-win_amd64.whl (172.4 MB)\n",
      "     ------------------------------------- 172.4/172.4 MB 13.4 MB/s eta 0:00:00\n",
      "Requirement already satisfied: tqdm in c:\\programdata\\anaconda3\\lib\\site-packages (from openai-whisper==20230918) (4.64.1)\n",
      "Collecting more-itertools (from openai-whisper==20230918)\n",
      "  Downloading more_itertools-10.1.0-py3-none-any.whl (55 kB)\n",
      "     ---------------------------------------- 55.8/55.8 kB ? eta 0:00:00\n",
      "Collecting tiktoken==0.3.3 (from openai-whisper==20230918)\n",
      "  Downloading tiktoken-0.3.3-cp39-cp39-win_amd64.whl (579 kB)\n",
      "     ------------------------------------- 579.8/579.8 kB 17.8 MB/s eta 0:00:00\n",
      "Requirement already satisfied: regex>=2022.1.18 in c:\\programdata\\anaconda3\\lib\\site-packages (from tiktoken==0.3.3->openai-whisper==20230918) (2022.7.9)\n",
      "Requirement already satisfied: requests>=2.26.0 in c:\\programdata\\anaconda3\\lib\\site-packages (from tiktoken==0.3.3->openai-whisper==20230918) (2.28.1)\n",
      "Requirement already satisfied: llvmlite<0.39,>=0.38.0rc1 in c:\\programdata\\anaconda3\\lib\\site-packages (from numba->openai-whisper==20230918) (0.38.0)\n",
      "Requirement already satisfied: setuptools in c:\\programdata\\anaconda3\\lib\\site-packages (from numba->openai-whisper==20230918) (63.4.1)\n",
      "Requirement already satisfied: filelock in c:\\programdata\\anaconda3\\lib\\site-packages (from torch->openai-whisper==20230918) (3.6.0)\n",
      "Requirement already satisfied: typing-extensions in c:\\programdata\\anaconda3\\lib\\site-packages (from torch->openai-whisper==20230918) (4.3.0)\n",
      "Requirement already satisfied: sympy in c:\\programdata\\anaconda3\\lib\\site-packages (from torch->openai-whisper==20230918) (1.10.1)\n",
      "Requirement already satisfied: networkx in c:\\programdata\\anaconda3\\lib\\site-packages (from torch->openai-whisper==20230918) (2.8.4)\n",
      "Requirement already satisfied: jinja2 in c:\\programdata\\anaconda3\\lib\\site-packages (from torch->openai-whisper==20230918) (2.11.3)\n",
      "Requirement already satisfied: colorama in c:\\programdata\\anaconda3\\lib\\site-packages (from tqdm->openai-whisper==20230918) (0.4.5)\n",
      "Requirement already satisfied: charset-normalizer<3,>=2 in c:\\programdata\\anaconda3\\lib\\site-packages (from requests>=2.26.0->tiktoken==0.3.3->openai-whisper==20230918) (2.0.4)\n",
      "Requirement already satisfied: idna<4,>=2.5 in c:\\programdata\\anaconda3\\lib\\site-packages (from requests>=2.26.0->tiktoken==0.3.3->openai-whisper==20230918) (3.3)\n",
      "Requirement already satisfied: urllib3<1.27,>=1.21.1 in c:\\programdata\\anaconda3\\lib\\site-packages (from requests>=2.26.0->tiktoken==0.3.3->openai-whisper==20230918) (1.26.11)\n",
      "Requirement already satisfied: certifi>=2017.4.17 in c:\\programdata\\anaconda3\\lib\\site-packages (from requests>=2.26.0->tiktoken==0.3.3->openai-whisper==20230918) (2022.9.14)\n",
      "Requirement already satisfied: MarkupSafe>=0.23 in c:\\programdata\\anaconda3\\lib\\site-packages (from jinja2->torch->openai-whisper==20230918) (2.0.1)\n",
      "Requirement already satisfied: mpmath>=0.19 in c:\\programdata\\anaconda3\\lib\\site-packages (from sympy->torch->openai-whisper==20230918) (1.2.1)\n",
      "Building wheels for collected packages: openai-whisper\n",
      "  Building wheel for openai-whisper (pyproject.toml): started\n",
      "  Building wheel for openai-whisper (pyproject.toml): finished with status 'done'\n",
      "  Created wheel for openai-whisper: filename=openai_whisper-20230918-py3-none-any.whl size=807710 sha256=03ae43dffbd86eb0e3b415b1a5693d9e68254cd5dfd82f6bcdb9c16d11ed1414\n",
      "  Stored in directory: C:\\Users\\hugo1\\AppData\\Local\\Temp\\pip-ephem-wheel-cache-pziuxegg\\wheels\\fe\\03\\29\\e7919208d11b4ab32972cb448bb84a9a675d92cd52c9a48341\n",
      "Successfully built openai-whisper\n",
      "Installing collected packages: more-itertools, torch, tiktoken, openai-whisper\n",
      "Successfully installed more-itertools-10.1.0 openai-whisper-20230918 tiktoken-0.3.3 torch-2.0.1\n"
     ]
    },
    {
     "name": "stderr",
     "output_type": "stream",
     "text": [
      "WARNING: Ignoring invalid distribution -rotobuf (c:\\users\\hugo1\\appdata\\roaming\\python\\python39\\site-packages)\n",
      "WARNING: Ignoring invalid distribution -rotobuf (c:\\users\\hugo1\\appdata\\roaming\\python\\python39\\site-packages)\n",
      "  Running command git clone --filter=blob:none --quiet https://github.com/openai/whisper.git 'C:\\Users\\hugo1\\AppData\\Local\\Temp\\pip-req-build-2_ih98xv'\n",
      "WARNING: Ignoring invalid distribution -rotobuf (c:\\users\\hugo1\\appdata\\roaming\\python\\python39\\site-packages)\n",
      "  WARNING: The scripts convert-caffe2-to-onnx.exe, convert-onnx-to-caffe2.exe and torchrun.exe are installed in 'C:\\Users\\hugo1\\AppData\\Roaming\\Python\\Python39\\Scripts' which is not on PATH.\n",
      "  Consider adding this directory to PATH or, if you prefer to suppress this warning, use --no-warn-script-location.\n",
      "  WARNING: The script whisper.exe is installed in 'C:\\Users\\hugo1\\AppData\\Roaming\\Python\\Python39\\Scripts' which is not on PATH.\n",
      "  Consider adding this directory to PATH or, if you prefer to suppress this warning, use --no-warn-script-location.\n",
      "WARNING: Ignoring invalid distribution -rotobuf (c:\\users\\hugo1\\appdata\\roaming\\python\\python39\\site-packages)\n",
      "\n",
      "[notice] A new release of pip is available: 23.1.2 -> 23.2.1\n",
      "[notice] To update, run: python.exe -m pip install --upgrade pip\n"
     ]
    }
   ],
   "source": [
    "!pip install git+https://github.com/openai/whisper.git"
   ]
  },
  {
   "cell_type": "code",
   "execution_count": 5,
   "id": "48dbd568",
   "metadata": {},
   "outputs": [
    {
     "name": "stderr",
     "output_type": "stream",
     "text": [
      "100%|███████████████████████████████████████| 139M/139M [00:09<00:00, 15.9MiB/s]\n",
      "C:\\Users\\hugo1\\AppData\\Roaming\\Python\\Python39\\site-packages\\whisper\\transcribe.py:114: UserWarning: FP16 is not supported on CPU; using FP32 instead\n",
      "  warnings.warn(\"FP16 is not supported on CPU; using FP32 instead\")\n"
     ]
    },
    {
     "name": "stdout",
     "output_type": "stream",
     "text": [
      " Hola Julio, ¿qué tal? Aquí veo que tienen los programas y tienen los procesos. Entonces, viendo de esa manera, si hacen la segmentación y hacer el filtro correcto. Pero cuando vamos a generación, te muestro el listo de los programas. ¿Cómo trabajaré de julio o es que también falta segmentar lo que va a hacer el filtro que también te muestro solamente en las generaciones de relacionación a ese programa? Ármelo, confirmas.\n"
     ]
    }
   ],
   "source": [
    "import whisper\n",
    "\n",
    "base_model = whisper.load_model(\"base\")\n",
    "\n",
    "result = base_model.transcribe(\"C://Users/hugo1/Music/audio.opus\")\n",
    "\n",
    "print(result[\"text\"])\n",
    "\n",
    "# C:\\Users\\hugo1\\Music\\audio.opus"
   ]
  },
  {
   "cell_type": "code",
   "execution_count": 6,
   "id": "063830a9",
   "metadata": {},
   "outputs": [
    {
     "name": "stderr",
     "output_type": "stream",
     "text": [
      "100%|█████████████████████████████████████| 2.87G/2.87G [12:00<00:00, 4.29MiB/s]\n"
     ]
    },
    {
     "name": "stdout",
     "output_type": "stream",
     "text": [
      " Hola Julio, ¿qué tal? Oye, este, aquí veo que tienen los programas y tienen los procesos, ¿no? Entonces, viéndolo de esa manera, sí hace la segmentación y hace el filtro correcto. Pero cuando vamos a generación, te muestro todo el listado de ambos programas. ¿Cómo trabajaría ahí, Julio? ¿O es que también falta segmentarlo o hacer el filtro que también te muestra solamente las generaciones relacionadas a ese programa? A ver, ¿me confirmas?\n"
     ]
    }
   ],
   "source": [
    "base_model = whisper.load_model(\"large\")\n",
    "\n",
    "result = base_model.transcribe(\"C://Users/hugo1/Music/audio.opus\")\n",
    "\n",
    "print(result[\"text\"])"
   ]
  },
  {
   "cell_type": "code",
   "execution_count": 7,
   "id": "49758244",
   "metadata": {},
   "outputs": [
    {
     "name": "stdout",
     "output_type": "stream",
     "text": [
      "Defaulting to user installation because normal site-packages is not writeable\n",
      "Collecting moviepy\n",
      "  Downloading moviepy-1.0.3.tar.gz (388 kB)\n",
      "     -------------------------------------- 388.3/388.3 kB 8.0 MB/s eta 0:00:00\n",
      "  Preparing metadata (setup.py): started\n",
      "  Preparing metadata (setup.py): finished with status 'done'\n",
      "Collecting decorator<5.0,>=4.0.2 (from moviepy)\n",
      "  Downloading decorator-4.4.2-py2.py3-none-any.whl (9.2 kB)\n",
      "Requirement already satisfied: tqdm<5.0,>=4.11.2 in c:\\programdata\\anaconda3\\lib\\site-packages (from moviepy) (4.64.1)\n",
      "Requirement already satisfied: requests<3.0,>=2.8.1 in c:\\programdata\\anaconda3\\lib\\site-packages (from moviepy) (2.28.1)\n",
      "Collecting proglog<=1.0.0 (from moviepy)\n",
      "  Downloading proglog-0.1.10-py3-none-any.whl (6.1 kB)\n",
      "Requirement already satisfied: numpy>=1.17.3 in c:\\programdata\\anaconda3\\lib\\site-packages (from moviepy) (1.21.5)\n",
      "Requirement already satisfied: imageio<3.0,>=2.5 in c:\\programdata\\anaconda3\\lib\\site-packages (from moviepy) (2.19.3)\n",
      "Collecting imageio_ffmpeg>=0.2.0 (from moviepy)\n",
      "  Downloading imageio_ffmpeg-0.4.9-py3-none-win_amd64.whl (22.6 MB)\n",
      "     --------------------------------------- 22.6/22.6 MB 54.4 MB/s eta 0:00:00\n",
      "Requirement already satisfied: pillow>=8.3.2 in c:\\programdata\\anaconda3\\lib\\site-packages (from imageio<3.0,>=2.5->moviepy) (9.2.0)\n",
      "Requirement already satisfied: setuptools in c:\\programdata\\anaconda3\\lib\\site-packages (from imageio_ffmpeg>=0.2.0->moviepy) (63.4.1)\n",
      "Requirement already satisfied: charset-normalizer<3,>=2 in c:\\programdata\\anaconda3\\lib\\site-packages (from requests<3.0,>=2.8.1->moviepy) (2.0.4)\n",
      "Requirement already satisfied: idna<4,>=2.5 in c:\\programdata\\anaconda3\\lib\\site-packages (from requests<3.0,>=2.8.1->moviepy) (3.3)\n",
      "Requirement already satisfied: urllib3<1.27,>=1.21.1 in c:\\programdata\\anaconda3\\lib\\site-packages (from requests<3.0,>=2.8.1->moviepy) (1.26.11)\n",
      "Requirement already satisfied: certifi>=2017.4.17 in c:\\programdata\\anaconda3\\lib\\site-packages (from requests<3.0,>=2.8.1->moviepy) (2022.9.14)\n",
      "Requirement already satisfied: colorama in c:\\programdata\\anaconda3\\lib\\site-packages (from tqdm<5.0,>=4.11.2->moviepy) (0.4.5)\n",
      "Building wheels for collected packages: moviepy\n",
      "  Building wheel for moviepy (setup.py): started\n",
      "  Building wheel for moviepy (setup.py): finished with status 'done'\n",
      "  Created wheel for moviepy: filename=moviepy-1.0.3-py3-none-any.whl size=110728 sha256=b00a8836f399376c43378fff5b9ced742cbbd47680745b665e538ac7b69032f1\n",
      "  Stored in directory: c:\\users\\hugo1\\appdata\\local\\pip\\cache\\wheels\\29\\15\\e4\\4f790bec6acd51a00b67e8ee1394f0bc6e0135c315f8ff399a\n",
      "Successfully built moviepy\n",
      "Installing collected packages: imageio_ffmpeg, decorator, proglog, moviepy\n",
      "Successfully installed decorator-4.4.2 imageio_ffmpeg-0.4.9 moviepy-1.0.3 proglog-0.1.10\n"
     ]
    },
    {
     "name": "stderr",
     "output_type": "stream",
     "text": [
      "WARNING: Ignoring invalid distribution -rotobuf (c:\\users\\hugo1\\appdata\\roaming\\python\\python39\\site-packages)\n",
      "WARNING: Ignoring invalid distribution -rotobuf (c:\\users\\hugo1\\appdata\\roaming\\python\\python39\\site-packages)\n",
      "WARNING: Ignoring invalid distribution -rotobuf (c:\\users\\hugo1\\appdata\\roaming\\python\\python39\\site-packages)\n",
      "ERROR: pip's dependency resolver does not currently take into account all the packages that are installed. This behaviour is the source of the following dependency conflicts.\n",
      "spyder 5.2.2 requires pyqt5<5.13, which is not installed.\n",
      "spyder 5.2.2 requires pyqtwebengine<5.13, which is not installed.\n",
      "WARNING: Ignoring invalid distribution -rotobuf (c:\\users\\hugo1\\appdata\\roaming\\python\\python39\\site-packages)\n",
      "\n",
      "[notice] A new release of pip is available: 23.1.2 -> 23.2.1\n",
      "[notice] To update, run: python.exe -m pip install --upgrade pip\n"
     ]
    }
   ],
   "source": [
    "!pip install moviepy"
   ]
  },
  {
   "cell_type": "code",
   "execution_count": 9,
   "id": "18f2ed6d",
   "metadata": {},
   "outputs": [
    {
     "name": "stdout",
     "output_type": "stream",
     "text": [
      "MoviePy - Writing audio in audio.mp3\n"
     ]
    },
    {
     "name": "stderr",
     "output_type": "stream",
     "text": [
      "                                                                    \r"
     ]
    },
    {
     "name": "stdout",
     "output_type": "stream",
     "text": [
      "MoviePy - Done.\n",
      " Cachorrado es la mayor mentira y el mayor vendehumo de la historia del fútbol de Roblox. Se supone que llegaba como una estrella para la copa libertadores para el equipo de Boca Juniors y tras de que se va a rumbear llega mal al partido, no define bien y hace una pésima actuación. Ah y sin contar ese tiro de esquina tan malo que se le fue para atrás. Definitivamente Cachorrado puede ser el peor fichaje de la historia del fútbol.\n"
     ]
    }
   ],
   "source": [
    "from moviepy.editor import VideoFileClip\n",
    "\n",
    "# Ruta al archivo de vídeo\n",
    "video_path = \"./cachao.mp4\"\n",
    "\n",
    "# Cargar el archivo de vídeo\n",
    "video_clip = VideoFileClip(video_path)\n",
    "\n",
    "# Extraer el audio del vídeo\n",
    "audio_clip = video_clip.audio\n",
    "\n",
    "# Guardar el audio en un archivo separado\n",
    "audio_output_path = \"audio.mp3\"\n",
    "audio_clip.write_audiofile(audio_output_path)\n",
    "\n",
    "# Duración deseada para cada fragmento en segundos\n",
    "# duracion_fragmento = 10\n",
    "\n",
    "# # Obtener la duración total del audio\n",
    "# duracion_total = audio_clip.duration\n",
    "\n",
    "# # Inicializar una lista para almacenar los fragmentos de audio\n",
    "# fragmentos_de_audio = []\n",
    "\n",
    "# Dividir el audio en fragmentos de 10 segundos\n",
    "# inicio = 0\n",
    "# while inicio < duracion_total:\n",
    "#     fin = min(inicio + duracion_fragmento, duracion_total)\n",
    "#     fragmento = audio_clip.subclip(inicio, fin)\n",
    "#     fragmentos_de_audio.append(fragmento)\n",
    "#     inicio += duracion_fragmento\n",
    "\n",
    "# # Cerrar el archivo de audio\n",
    "# audio_clip.close()\n",
    "\n",
    "\n",
    "# for audio in fragmentos_de_audio:\n"
   ]
  },
  {
   "cell_type": "code",
   "execution_count": 10,
   "id": "0be4e483",
   "metadata": {},
   "outputs": [
    {
     "name": "stdout",
     "output_type": "stream",
     "text": [
      " Cachorrado es la mayor mentira y el mayor vendehumo de la historia del fútbol de Roblox. Se supone que llegaba como una estrella para la copa libertadores para el equipo de Boca Juniors y tras de que se va a rumbear llega mal al partido, no define bien y hace una pésima actuación. Ah y sin contar ese tiro de esquina tan malo que se le fue para atrás. Definitivamente Cachorrado puede ser el peor fichaje de la historia del fútbol.\n"
     ]
    }
   ],
   "source": [
    "base_model = whisper.load_model(\"large\")\n",
    "result = base_model.transcribe(\"./audio.mp3\")\n",
    "print(result[\"text\"])\n"
   ]
  },
  {
   "cell_type": "code",
   "execution_count": 1,
   "id": "e7f92f21",
   "metadata": {},
   "outputs": [
    {
     "name": "stdout",
     "output_type": "stream",
     "text": [
      "Defaulting to user installation because normal site-packages is not writeable\n",
      "Collecting ffmpeg-python\n",
      "  Downloading ffmpeg_python-0.2.0-py3-none-any.whl (25 kB)\n",
      "Requirement already satisfied: future in c:\\programdata\\anaconda3\\lib\\site-packages (from ffmpeg-python) (0.18.2)\n",
      "Installing collected packages: ffmpeg-python\n",
      "Successfully installed ffmpeg-python-0.2.0\n"
     ]
    },
    {
     "name": "stderr",
     "output_type": "stream",
     "text": [
      "WARNING: Ignoring invalid distribution -rotobuf (c:\\users\\hugo1\\appdata\\roaming\\python\\python39\\site-packages)\n",
      "WARNING: Ignoring invalid distribution -rotobuf (c:\\users\\hugo1\\appdata\\roaming\\python\\python39\\site-packages)\n",
      "WARNING: Ignoring invalid distribution -rotobuf (c:\\users\\hugo1\\appdata\\roaming\\python\\python39\\site-packages)\n",
      "WARNING: Ignoring invalid distribution -rotobuf (c:\\users\\hugo1\\appdata\\roaming\\python\\python39\\site-packages)\n",
      "\n",
      "[notice] A new release of pip is available: 23.1.2 -> 23.2.1\n",
      "[notice] To update, run: python.exe -m pip install --upgrade pip\n"
     ]
    }
   ],
   "source": [
    "!pip install ffmpeg-python"
   ]
  },
  {
   "cell_type": "code",
   "execution_count": 6,
   "id": "0950339d",
   "metadata": {},
   "outputs": [
    {
     "name": "stdout",
     "output_type": "stream",
     "text": [
      "{'streams': [{'index': 0, 'codec_name': 'h264', 'codec_long_name': 'H.264 / AVC / MPEG-4 AVC / MPEG-4 part 10', 'profile': 'High', 'codec_type': 'video', 'codec_tag_string': 'avc1', 'codec_tag': '0x31637661', 'width': 1920, 'height': 1080, 'coded_width': 1920, 'coded_height': 1080, 'closed_captions': 0, 'film_grain': 0, 'has_b_frames': 0, 'sample_aspect_ratio': '1:1', 'display_aspect_ratio': '16:9', 'pix_fmt': 'yuv420p', 'level': 42, 'color_range': 'tv', 'color_space': 'bt709', 'color_transfer': 'bt709', 'color_primaries': 'bt709', 'chroma_location': 'left', 'field_order': 'progressive', 'refs': 1, 'is_avc': 'true', 'nal_length_size': '4', 'id': '0x1', 'r_frame_rate': '60/1', 'avg_frame_rate': '3342000/55699', 'time_base': '1/90000', 'start_pts': 0, 'start_time': '0.000000', 'duration_ts': 5012910, 'duration': '55.699000', 'bit_rate': '883511', 'bits_per_raw_sample': '8', 'nb_frames': '3342', 'extradata_size': 35, 'disposition': {'default': 1, 'dub': 0, 'original': 0, 'comment': 0, 'lyrics': 0, 'karaoke': 0, 'forced': 0, 'hearing_impaired': 0, 'visual_impaired': 0, 'clean_effects': 0, 'attached_pic': 0, 'timed_thumbnails': 0, 'captions': 0, 'descriptions': 0, 'metadata': 0, 'dependent': 0, 'still_image': 0}, 'tags': {'language': 'und', 'handler_name': 'VideoHandler', 'vendor_id': '[0][0][0][0]'}}, {'index': 1, 'codec_name': 'aac', 'codec_long_name': 'AAC (Advanced Audio Coding)', 'profile': 'LC', 'codec_type': 'audio', 'codec_tag_string': 'mp4a', 'codec_tag': '0x6134706d', 'sample_fmt': 'fltp', 'sample_rate': '48000', 'channels': 2, 'channel_layout': 'stereo', 'bits_per_sample': 0, 'initial_padding': 0, 'id': '0x2', 'r_frame_rate': '0/0', 'avg_frame_rate': '0/0', 'time_base': '1/48000', 'start_pts': 0, 'start_time': '0.000000', 'duration_ts': 2673648, 'duration': '55.701000', 'bit_rate': '2274', 'nb_frames': '2611', 'extradata_size': 5, 'disposition': {'default': 1, 'dub': 0, 'original': 0, 'comment': 0, 'lyrics': 0, 'karaoke': 0, 'forced': 0, 'hearing_impaired': 0, 'visual_impaired': 0, 'clean_effects': 0, 'attached_pic': 0, 'timed_thumbnails': 0, 'captions': 0, 'descriptions': 0, 'metadata': 0, 'dependent': 0, 'still_image': 0}, 'tags': {'language': 'und', 'handler_name': 'SoundHandler', 'vendor_id': '[0][0][0][0]'}}], 'format': {'filename': 'C://Users/hugo1/Videos\\\\2022-12-23 17-12-48.mp4', 'nb_streams': 2, 'nb_programs': 0, 'format_name': 'mov,mp4,m4a,3gp,3g2,mj2', 'format_long_name': 'QuickTime / MOV', 'start_time': '0.000000', 'duration': '55.701000', 'size': '6262641', 'bit_rate': '899465', 'probe_score': 100, 'tags': {'major_brand': 'isom', 'minor_version': '512', 'compatible_brands': 'isomiso2avc1mp41', 'encoder': 'Lavf59.16.100'}}}\n",
      "{'streams': [{'index': 0, 'codec_name': 'h264', 'codec_long_name': 'H.264 / AVC / MPEG-4 AVC / MPEG-4 part 10', 'profile': 'High', 'codec_type': 'video', 'codec_tag_string': 'avc1', 'codec_tag': '0x31637661', 'width': 1920, 'height': 1080, 'coded_width': 1920, 'coded_height': 1080, 'closed_captions': 0, 'film_grain': 0, 'has_b_frames': 2, 'sample_aspect_ratio': '1:1', 'display_aspect_ratio': '16:9', 'pix_fmt': 'yuv420p', 'level': 42, 'color_range': 'tv', 'color_space': 'bt709', 'color_transfer': 'bt709', 'color_primaries': 'bt709', 'chroma_location': 'left', 'field_order': 'progressive', 'refs': 1, 'is_avc': 'true', 'nal_length_size': '4', 'id': '0x1', 'r_frame_rate': '60/1', 'avg_frame_rate': '6746000/112433', 'time_base': '1/90000', 'start_pts': 0, 'start_time': '0.000000', 'duration_ts': 50594850, 'duration': '562.165000', 'bit_rate': '262724', 'bits_per_raw_sample': '8', 'nb_frames': '33730', 'extradata_size': 49, 'disposition': {'default': 1, 'dub': 0, 'original': 0, 'comment': 0, 'lyrics': 0, 'karaoke': 0, 'forced': 0, 'hearing_impaired': 0, 'visual_impaired': 0, 'clean_effects': 0, 'attached_pic': 0, 'timed_thumbnails': 0, 'captions': 0, 'descriptions': 0, 'metadata': 0, 'dependent': 0, 'still_image': 0}, 'tags': {'language': 'und', 'handler_name': 'VideoHandler', 'vendor_id': '[0][0][0][0]'}}, {'index': 1, 'codec_name': 'aac', 'codec_long_name': 'AAC (Advanced Audio Coding)', 'profile': 'LC', 'codec_type': 'audio', 'codec_tag_string': 'mp4a', 'codec_tag': '0x6134706d', 'sample_fmt': 'fltp', 'sample_rate': '48000', 'channels': 2, 'channel_layout': 'stereo', 'bits_per_sample': 0, 'initial_padding': 0, 'id': '0x2', 'r_frame_rate': '0/0', 'avg_frame_rate': '0/0', 'time_base': '1/48000', 'start_pts': 0, 'start_time': '0.000000', 'duration_ts': 26982384, 'duration': '562.133000', 'bit_rate': '192560', 'nb_frames': '26350', 'extradata_size': 5, 'disposition': {'default': 1, 'dub': 0, 'original': 0, 'comment': 0, 'lyrics': 0, 'karaoke': 0, 'forced': 0, 'hearing_impaired': 0, 'visual_impaired': 0, 'clean_effects': 0, 'attached_pic': 0, 'timed_thumbnails': 0, 'captions': 0, 'descriptions': 0, 'metadata': 0, 'dependent': 0, 'still_image': 0}, 'tags': {'language': 'und', 'handler_name': 'SoundHandler', 'vendor_id': '[0][0][0][0]'}}], 'format': {'filename': 'C://Users/hugo1/Videos\\\\2023-06-30 15-35-26.mp4', 'nb_streams': 2, 'nb_programs': 0, 'format_name': 'mov,mp4,m4a,3gp,3g2,mj2', 'format_long_name': 'QuickTime / MOV', 'start_time': '0.000000', 'duration': '562.165000', 'size': '33211663', 'bit_rate': '472625', 'probe_score': 100, 'tags': {'major_brand': 'isom', 'minor_version': '512', 'compatible_brands': 'isomiso2avc1mp41', 'encoder': 'Lavf59.16.100'}}}\n",
      "{'streams': [{'index': 0, 'codec_name': 'h264', 'codec_long_name': 'H.264 / AVC / MPEG-4 AVC / MPEG-4 part 10', 'profile': 'High', 'codec_type': 'video', 'codec_tag_string': 'avc1', 'codec_tag': '0x31637661', 'width': 1920, 'height': 1080, 'coded_width': 1920, 'coded_height': 1080, 'closed_captions': 0, 'film_grain': 0, 'has_b_frames': 2, 'sample_aspect_ratio': '1:1', 'display_aspect_ratio': '16:9', 'pix_fmt': 'yuv420p', 'level': 42, 'color_range': 'tv', 'color_space': 'bt709', 'color_transfer': 'bt709', 'color_primaries': 'bt709', 'chroma_location': 'left', 'field_order': 'progressive', 'refs': 1, 'is_avc': 'true', 'nal_length_size': '4', 'id': '0x1', 'r_frame_rate': '60/1', 'avg_frame_rate': '635000/10581', 'time_base': '1/90000', 'start_pts': 0, 'start_time': '0.000000', 'duration_ts': 952290, 'duration': '10.581000', 'bit_rate': '728304', 'bits_per_raw_sample': '8', 'nb_frames': '635', 'extradata_size': 49, 'disposition': {'default': 1, 'dub': 0, 'original': 0, 'comment': 0, 'lyrics': 0, 'karaoke': 0, 'forced': 0, 'hearing_impaired': 0, 'visual_impaired': 0, 'clean_effects': 0, 'attached_pic': 0, 'timed_thumbnails': 0, 'captions': 0, 'descriptions': 0, 'metadata': 0, 'dependent': 0, 'still_image': 0}, 'tags': {'language': 'und', 'handler_name': 'VideoHandler', 'vendor_id': '[0][0][0][0]'}}, {'index': 1, 'codec_name': 'aac', 'codec_long_name': 'AAC (Advanced Audio Coding)', 'profile': 'LC', 'codec_type': 'audio', 'codec_tag_string': 'mp4a', 'codec_tag': '0x6134706d', 'sample_fmt': 'fltp', 'sample_rate': '48000', 'channels': 2, 'channel_layout': 'stereo', 'bits_per_sample': 0, 'initial_padding': 0, 'id': '0x2', 'r_frame_rate': '0/0', 'avg_frame_rate': '0/0', 'time_base': '1/48000', 'start_pts': 0, 'start_time': '0.000000', 'duration_ts': 506880, 'duration': '10.560000', 'bit_rate': '189314', 'nb_frames': '495', 'extradata_size': 5, 'disposition': {'default': 1, 'dub': 0, 'original': 0, 'comment': 0, 'lyrics': 0, 'karaoke': 0, 'forced': 0, 'hearing_impaired': 0, 'visual_impaired': 0, 'clean_effects': 0, 'attached_pic': 0, 'timed_thumbnails': 0, 'captions': 0, 'descriptions': 0, 'metadata': 0, 'dependent': 0, 'still_image': 0}, 'tags': {'language': 'und', 'handler_name': 'SoundHandler', 'vendor_id': '[0][0][0][0]'}}], 'format': {'filename': 'C://Users/hugo1/Videos\\\\2023-08-16 11-22-39.mp4', 'nb_streams': 2, 'nb_programs': 0, 'format_name': 'mov,mp4,m4a,3gp,3g2,mj2', 'format_long_name': 'QuickTime / MOV', 'start_time': '0.000000', 'duration': '10.581000', 'size': '1237555', 'bit_rate': '935680', 'probe_score': 100, 'tags': {'major_brand': 'isom', 'minor_version': '512', 'compatible_brands': 'isomiso2avc1mp41', 'encoder': 'Lavf60.3.100'}}}\n",
      "{'streams': [{'index': 0, 'codec_name': 'h264', 'codec_long_name': 'H.264 / AVC / MPEG-4 AVC / MPEG-4 part 10', 'profile': 'High', 'codec_type': 'video', 'codec_tag_string': 'avc1', 'codec_tag': '0x31637661', 'width': 1920, 'height': 1080, 'coded_width': 1920, 'coded_height': 1080, 'closed_captions': 0, 'film_grain': 0, 'has_b_frames': 2, 'sample_aspect_ratio': '1:1', 'display_aspect_ratio': '16:9', 'pix_fmt': 'yuv420p', 'level': 42, 'color_range': 'tv', 'color_space': 'bt709', 'color_transfer': 'bt709', 'color_primaries': 'bt709', 'chroma_location': 'left', 'field_order': 'progressive', 'refs': 1, 'is_avc': 'true', 'nal_length_size': '4', 'id': '0x1', 'r_frame_rate': '60/1', 'avg_frame_rate': '12626600/210443', 'time_base': '1/90000', 'start_pts': 0, 'start_time': '0.000000', 'duration_ts': 94699350, 'duration': '1052.215000', 'bit_rate': '306581', 'bits_per_raw_sample': '8', 'nb_frames': '63133', 'extradata_size': 49, 'disposition': {'default': 1, 'dub': 0, 'original': 0, 'comment': 0, 'lyrics': 0, 'karaoke': 0, 'forced': 0, 'hearing_impaired': 0, 'visual_impaired': 0, 'clean_effects': 0, 'attached_pic': 0, 'timed_thumbnails': 0, 'captions': 0, 'descriptions': 0, 'metadata': 0, 'dependent': 0, 'still_image': 0}, 'tags': {'language': 'und', 'handler_name': 'VideoHandler', 'vendor_id': '[0][0][0][0]'}}, {'index': 1, 'codec_name': 'aac', 'codec_long_name': 'AAC (Advanced Audio Coding)', 'profile': 'LC', 'codec_type': 'audio', 'codec_tag_string': 'mp4a', 'codec_tag': '0x6134706d', 'sample_fmt': 'fltp', 'sample_rate': '48000', 'channels': 2, 'channel_layout': 'stereo', 'bits_per_sample': 0, 'initial_padding': 0, 'id': '0x2', 'r_frame_rate': '0/0', 'avg_frame_rate': '0/0', 'time_base': '1/48000', 'start_pts': 0, 'start_time': '0.000000', 'duration_ts': 50505696, 'duration': '1052.202000', 'bit_rate': '197605', 'nb_frames': '49322', 'extradata_size': 5, 'disposition': {'default': 1, 'dub': 0, 'original': 0, 'comment': 0, 'lyrics': 0, 'karaoke': 0, 'forced': 0, 'hearing_impaired': 0, 'visual_impaired': 0, 'clean_effects': 0, 'attached_pic': 0, 'timed_thumbnails': 0, 'captions': 0, 'descriptions': 0, 'metadata': 0, 'dependent': 0, 'still_image': 0}, 'tags': {'language': 'und', 'handler_name': 'SoundHandler', 'vendor_id': '[0][0][0][0]'}}], 'format': {'filename': 'C://Users/hugo1/Videos\\\\2023-09-26 11-53-54.mp4', 'nb_streams': 2, 'nb_programs': 0, 'format_name': 'mov,mp4,m4a,3gp,3g2,mj2', 'format_long_name': 'QuickTime / MOV', 'start_time': '0.000000', 'duration': '1052.215000', 'size': '68594232', 'bit_rate': '521522', 'probe_score': 100, 'tags': {'major_brand': 'isom', 'minor_version': '512', 'compatible_brands': 'isomiso2avc1mp41', 'encoder': 'Lavf60.3.100'}}}\n",
      "{'streams': [{'index': 0, 'codec_name': 'h264', 'codec_long_name': 'H.264 / AVC / MPEG-4 AVC / MPEG-4 part 10', 'profile': 'Main', 'codec_type': 'video', 'codec_tag_string': 'avc1', 'codec_tag': '0x31637661', 'width': 1920, 'height': 1080, 'coded_width': 1920, 'coded_height': 1080, 'closed_captions': 0, 'film_grain': 0, 'has_b_frames': 0, 'sample_aspect_ratio': '1:1', 'display_aspect_ratio': '16:9', 'pix_fmt': 'yuv420p', 'level': 42, 'color_range': 'tv', 'color_space': 'bt709', 'color_transfer': 'bt709', 'color_primaries': 'bt709', 'chroma_location': 'left', 'field_order': 'progressive', 'refs': 1, 'is_avc': 'true', 'nal_length_size': '4', 'id': '0x1', 'r_frame_rate': '10053000/167549', 'avg_frame_rate': '10053000/167549', 'time_base': '1/10053000', 'start_pts': 160848, 'start_time': '0.016000', 'duration_ts': 2325245022, 'duration': '231.298620', 'bit_rate': '135147', 'bits_per_raw_sample': '8', 'nb_frames': '13878', 'extradata_size': 30, 'disposition': {'default': 1, 'dub': 0, 'original': 0, 'comment': 0, 'lyrics': 0, 'karaoke': 0, 'forced': 0, 'hearing_impaired': 0, 'visual_impaired': 0, 'clean_effects': 0, 'attached_pic': 0, 'timed_thumbnails': 0, 'captions': 0, 'descriptions': 0, 'metadata': 0, 'dependent': 0, 'still_image': 0}, 'tags': {'language': 'und', 'handler_name': 'VideoHandler', 'vendor_id': '[0][0][0][0]'}}, {'index': 1, 'codec_name': 'aac', 'codec_long_name': 'AAC (Advanced Audio Coding)', 'profile': 'LC', 'codec_type': 'audio', 'codec_tag_string': 'mp4a', 'codec_tag': '0x6134706d', 'sample_fmt': 'fltp', 'sample_rate': '48000', 'channels': 2, 'channel_layout': 'stereo', 'bits_per_sample': 0, 'initial_padding': 0, 'id': '0x2', 'r_frame_rate': '0/0', 'avg_frame_rate': '0/0', 'time_base': '1/48000', 'start_pts': 0, 'start_time': '0.000000', 'duration_ts': 11103216, 'duration': '231.317000', 'bit_rate': '264798', 'nb_frames': '10844', 'extradata_size': 5, 'disposition': {'default': 1, 'dub': 0, 'original': 0, 'comment': 0, 'lyrics': 0, 'karaoke': 0, 'forced': 0, 'hearing_impaired': 0, 'visual_impaired': 0, 'clean_effects': 0, 'attached_pic': 0, 'timed_thumbnails': 0, 'captions': 0, 'descriptions': 0, 'metadata': 0, 'dependent': 0, 'still_image': 0}, 'tags': {'language': 'und', 'handler_name': 'SoundHandler', 'vendor_id': '[0][0][0][0]'}}], 'format': {'filename': 'C://Users/hugo1/Videos\\\\InstaSlidePitch.mp4', 'nb_streams': 2, 'nb_programs': 0, 'format_name': 'mov,mp4,m4a,3gp,3g2,mj2', 'format_long_name': 'QuickTime / MOV', 'start_time': '0.000000', 'duration': '231.317000', 'size': '11824799', 'bit_rate': '408955', 'probe_score': 100, 'tags': {'major_brand': 'isom', 'minor_version': '512', 'compatible_brands': 'isomiso2avc1mp41', 'encoder': 'Lavf59.27.100'}}}\n",
      "{'streams': [{'index': 0, 'codec_name': 'h264', 'codec_long_name': 'H.264 / AVC / MPEG-4 AVC / MPEG-4 part 10', 'profile': 'Main', 'codec_type': 'video', 'codec_tag_string': 'avc1', 'codec_tag': '0x31637661', 'width': 1280, 'height': 720, 'coded_width': 1280, 'coded_height': 720, 'closed_captions': 0, 'film_grain': 0, 'has_b_frames': 0, 'sample_aspect_ratio': '1:1', 'display_aspect_ratio': '16:9', 'pix_fmt': 'yuv420p', 'level': 31, 'color_range': 'tv', 'chroma_location': 'left', 'field_order': 'progressive', 'refs': 1, 'is_avc': 'true', 'nal_length_size': '4', 'id': '0x1', 'r_frame_rate': '30/1', 'avg_frame_rate': '41640000/1387999', 'time_base': '1/30000', 'start_pts': 0, 'start_time': '0.000000', 'duration_ts': 4163997, 'duration': '138.799900', 'bit_rate': '74580', 'bits_per_raw_sample': '8', 'nb_frames': '4164', 'extradata_size': 42, 'disposition': {'default': 1, 'dub': 0, 'original': 0, 'comment': 0, 'lyrics': 0, 'karaoke': 0, 'forced': 0, 'hearing_impaired': 0, 'visual_impaired': 0, 'clean_effects': 0, 'attached_pic': 0, 'timed_thumbnails': 0, 'captions': 0, 'descriptions': 0, 'metadata': 0, 'dependent': 0, 'still_image': 0}, 'tags': {'creation_time': '2022-12-29T14:59:58.000000Z', 'language': 'eng', 'handler_name': 'Mainconcept MP4 Video Media Handler', 'vendor_id': '[0][0][0][0]', 'encoder': 'AVC Coding'}}, {'index': 1, 'codec_name': 'aac', 'codec_long_name': 'AAC (Advanced Audio Coding)', 'profile': 'LC', 'codec_type': 'audio', 'codec_tag_string': 'mp4a', 'codec_tag': '0x6134706d', 'sample_fmt': 'fltp', 'sample_rate': '44100', 'channels': 2, 'channel_layout': 'stereo', 'bits_per_sample': 0, 'initial_padding': 0, 'id': '0x2', 'r_frame_rate': '0/0', 'avg_frame_rate': '0/0', 'time_base': '1/44100', 'start_pts': 0, 'start_time': '0.000000', 'duration_ts': 6122483, 'duration': '138.831814', 'bit_rate': '125643', 'nb_frames': '5979', 'extradata_size': 2, 'disposition': {'default': 1, 'dub': 0, 'original': 0, 'comment': 0, 'lyrics': 0, 'karaoke': 0, 'forced': 0, 'hearing_impaired': 0, 'visual_impaired': 0, 'clean_effects': 0, 'attached_pic': 0, 'timed_thumbnails': 0, 'captions': 0, 'descriptions': 0, 'metadata': 0, 'dependent': 0, 'still_image': 0}, 'tags': {'creation_time': '2022-12-29T14:59:58.000000Z', 'language': 'eng', 'handler_name': 'Mainconcept MP4 Sound Media Handler', 'vendor_id': '[0][0][0][0]'}}], 'format': {'filename': 'C://Users/hugo1/Videos\\\\Video de WhatsApp 2022-12-29 a las 10.02.16.mp4', 'nb_streams': 2, 'nb_programs': 0, 'format_name': 'mov,mp4,m4a,3gp,3g2,mj2', 'format_long_name': 'QuickTime / MOV', 'start_time': '0.000000', 'duration': '138.831814', 'size': '3526268', 'bit_rate': '203196', 'probe_score': 100, 'tags': {'major_brand': 'mp42', 'minor_version': '0', 'compatible_brands': 'isommp42', 'creation_time': '2022-12-29T14:59:57.000000Z', 'artist': '', 'description': '', 'title': ''}}}\n"
     ]
    }
   ],
   "source": [
    "import os\n",
    "import ffmpeg\n",
    "\n",
    "carpeta = \"C://Users/hugo1/Videos\"\n",
    "\n",
    "for archivo in os.listdir(carpeta):\n",
    "    if archivo.endswith(\".mp4\"):\n",
    "        archivo_mp4 = os.path.join(carpeta, archivo)\n",
    "        \n",
    "        try:\n",
    "            probe = ffmpeg.probe(archivo_mp4)\n",
    "            print(probe)\n",
    "        except ffmpeg.Error as e:\n",
    "            print(f\"Error al procesar {archivo_mp4}: {e.stderr}\")\n"
   ]
  },
  {
   "cell_type": "code",
   "execution_count": 11,
   "id": "fd142430",
   "metadata": {},
   "outputs": [
    {
     "name": "stdout",
     "output_type": "stream",
     "text": [
      "Defaulting to user installation because normal site-packages is not writeable\n",
      "Collecting pytube\n",
      "  Downloading pytube-15.0.0-py3-none-any.whl (57 kB)\n",
      "     ---------------------------------------- 57.6/57.6 kB 3.0 MB/s eta 0:00:00\n",
      "Installing collected packages: pytube\n",
      "Successfully installed pytube-15.0.0\n"
     ]
    },
    {
     "name": "stderr",
     "output_type": "stream",
     "text": [
      "WARNING: Ignoring invalid distribution -rotobuf (c:\\users\\hugo1\\appdata\\roaming\\python\\python39\\site-packages)\n",
      "WARNING: Ignoring invalid distribution -rotobuf (c:\\users\\hugo1\\appdata\\roaming\\python\\python39\\site-packages)\n",
      "WARNING: Ignoring invalid distribution -rotobuf (c:\\users\\hugo1\\appdata\\roaming\\python\\python39\\site-packages)\n",
      "  WARNING: The script pytube.exe is installed in 'C:\\Users\\hugo1\\AppData\\Roaming\\Python\\Python39\\Scripts' which is not on PATH.\n",
      "  Consider adding this directory to PATH or, if you prefer to suppress this warning, use --no-warn-script-location.\n",
      "WARNING: Ignoring invalid distribution -rotobuf (c:\\users\\hugo1\\appdata\\roaming\\python\\python39\\site-packages)\n",
      "\n",
      "[notice] A new release of pip is available: 23.1.2 -> 23.2.1\n",
      "[notice] To update, run: python.exe -m pip install --upgrade pip\n"
     ]
    }
   ],
   "source": [
    "!pip install pytube"
   ]
  },
  {
   "cell_type": "code",
   "execution_count": 12,
   "id": "62d7b440",
   "metadata": {},
   "outputs": [
    {
     "name": "stdout",
     "output_type": "stream",
     "text": [
      "Descarga completa\n"
     ]
    }
   ],
   "source": [
    "from pytube import YouTube\n",
    "\n",
    "# URL del video de YouTube que deseas descargar\n",
    "url = 'https://www.youtube.com/watch?v=bo9Z_pgByQY'\n",
    "\n",
    "# Crea un objeto YouTube\n",
    "video = YouTube(url)\n",
    "\n",
    "# Selecciona la mejor calidad de video disponible\n",
    "stream = video.streams.get_highest_resolution()\n",
    "\n",
    "# Descarga el video al directorio actual\n",
    "stream.download()\n",
    "\n",
    "print(\"Descarga completa\")"
   ]
  },
  {
   "cell_type": "code",
   "execution_count": 2,
   "id": "46cbfd1f",
   "metadata": {},
   "outputs": [
    {
     "name": "stdout",
     "output_type": "stream",
     "text": [
      "Defaulting to user installation because normal site-packages is not writeable\n",
      "Requirement already satisfied: pip in c:\\users\\hugo1\\appdata\\roaming\\python\\python39\\site-packages (23.1.2)\n",
      "Collecting pip\n",
      "  Downloading pip-23.2.1-py3-none-any.whl (2.1 MB)\n",
      "     ---------------------------------------- 2.1/2.1 MB 22.3 MB/s eta 0:00:00\n"
     ]
    },
    {
     "name": "stderr",
     "output_type": "stream",
     "text": [
      "WARNING: Ignoring invalid distribution -rotobuf (c:\\users\\hugo1\\appdata\\roaming\\python\\python39\\site-packages)\n",
      "WARNING: Ignoring invalid distribution -rotobuf (c:\\users\\hugo1\\appdata\\roaming\\python\\python39\\site-packages)\n",
      "ERROR: To modify pip, please run the following command:\n",
      "C:\\ProgramData\\Anaconda3\\python.exe -m pip install --upgrade pip\n",
      "WARNING: Ignoring invalid distribution -rotobuf (c:\\users\\hugo1\\appdata\\roaming\\python\\python39\\site-packages)\n",
      "\n",
      "[notice] A new release of pip is available: 23.1.2 -> 23.2.1\n",
      "[notice] To update, run: python.exe -m pip install --upgrade pip\n"
     ]
    }
   ],
   "source": [
    "# !pip install pytube\n",
    "# !pip install srt"
   ]
  },
  {
   "cell_type": "code",
   "execution_count": 10,
   "id": "389dae7e",
   "metadata": {},
   "outputs": [
    {
     "name": "stdout",
     "output_type": "stream",
     "text": [
      "{}\n",
      "No se encontraron subtítulos en el idioma especificado.\n"
     ]
    },
    {
     "name": "stderr",
     "output_type": "stream",
     "text": [
      "C:\\Users\\hugo1\\AppData\\Local\\Temp\\ipykernel_17144\\1203755905.py:13: DeprecationWarning: Call to deprecated function get_by_language_code (This object can be treated as a dictionary, i.e. captions['en']).\n",
      "  captions = video.captions.get_by_language_code('es')  # Cambia 'es' al código del idioma que desees\n"
     ]
    }
   ],
   "source": [
    "from pytube import YouTube\n",
    "import srt\n",
    "\n",
    "# URL del video de YouTube del que deseas obtener la transcripción\n",
    "url = 'https://www.youtube.com/watch?v=m85qDk849_o'\n",
    "\n",
    "# Crea un objeto YouTube\n",
    "video = YouTube(url)\n",
    "\n",
    "print(video.captions)\n",
    "\n",
    "# Descarga los subtítulos (captions) del video\n",
    "captions = video.captions.get_by_language_code('es')  # Cambia 'es' al código del idioma que desees\n",
    "\n",
    "\n",
    "if captions:\n",
    "    # Descarga el archivo de subtítulos\n",
    "    subtitle_file = captions.download()\n",
    "\n",
    "    # Abre el archivo de subtítulos y procesa el contenido\n",
    "    with open(subtitle_file, 'r', encoding='utf-8') as file:\n",
    "        subtitle_content = file.read()\n",
    "\n",
    "    # Convierte el contenido de los subtítulos a formato SRT\n",
    "    srt_content = srt.parse(subtitle_content)\n",
    "\n",
    "    # Crea un archivo de texto para guardar la transcripción con los tiempos\n",
    "    with open('transcripcion_con_tiempo.txt', 'w', encoding='utf-8') as file:\n",
    "        for subtitle in srt_content:\n",
    "            file.write(f\"{subtitle.start} - {subtitle.end}\\n{subtitle.content}\\n\")\n",
    "\n",
    "    print(\"Transcripción con tiempos guardada en 'transcripcion_con_tiempo.txt'\")\n",
    "else:\n",
    "    print(\"No se encontraron subtítulos en el idioma especificado.\")"
   ]
  },
  {
   "cell_type": "code",
   "execution_count": 11,
   "id": "2e3611de",
   "metadata": {},
   "outputs": [
    {
     "name": "stdout",
     "output_type": "stream",
     "text": [
      "Defaulting to user installation because normal site-packages is not writeable\n",
      "Collecting youtube-transcript-api\n",
      "  Downloading youtube_transcript_api-0.6.1-py3-none-any.whl (24 kB)\n",
      "Requirement already satisfied: requests in c:\\programdata\\anaconda3\\lib\\site-packages (from youtube-transcript-api) (2.28.1)\n",
      "Requirement already satisfied: charset-normalizer<3,>=2 in c:\\programdata\\anaconda3\\lib\\site-packages (from requests->youtube-transcript-api) (2.0.4)\n",
      "Requirement already satisfied: idna<4,>=2.5 in c:\\programdata\\anaconda3\\lib\\site-packages (from requests->youtube-transcript-api) (3.3)\n",
      "Requirement already satisfied: urllib3<1.27,>=1.21.1 in c:\\programdata\\anaconda3\\lib\\site-packages (from requests->youtube-transcript-api) (1.26.11)\n",
      "Requirement already satisfied: certifi>=2017.4.17 in c:\\programdata\\anaconda3\\lib\\site-packages (from requests->youtube-transcript-api) (2022.9.14)\n",
      "Installing collected packages: youtube-transcript-api\n",
      "Successfully installed youtube-transcript-api-0.6.1\n"
     ]
    },
    {
     "name": "stderr",
     "output_type": "stream",
     "text": [
      "WARNING: Ignoring invalid distribution -rotobuf (c:\\users\\hugo1\\appdata\\roaming\\python\\python39\\site-packages)\n",
      "WARNING: Ignoring invalid distribution -rotobuf (c:\\users\\hugo1\\appdata\\roaming\\python\\python39\\site-packages)\n",
      "WARNING: Ignoring invalid distribution -rotobuf (c:\\users\\hugo1\\appdata\\roaming\\python\\python39\\site-packages)\n",
      "  WARNING: The script youtube_transcript_api.exe is installed in 'C:\\Users\\hugo1\\AppData\\Roaming\\Python\\Python39\\Scripts' which is not on PATH.\n",
      "  Consider adding this directory to PATH or, if you prefer to suppress this warning, use --no-warn-script-location.\n",
      "WARNING: Ignoring invalid distribution -rotobuf (c:\\users\\hugo1\\appdata\\roaming\\python\\python39\\site-packages)\n",
      "\n",
      "[notice] A new release of pip is available: 23.1.2 -> 23.2.1\n",
      "[notice] To update, run: python.exe -m pip install --upgrade pip\n"
     ]
    }
   ],
   "source": [
    "!pip install youtube-transcript-api"
   ]
  },
  {
   "cell_type": "code",
   "execution_count": 6,
   "id": "5a887148",
   "metadata": {},
   "outputs": [
    {
     "ename": "NoTranscriptFound",
     "evalue": "\nCould not retrieve a transcript for the video https://www.youtube.com/watch?v=DoDMH2-mlQA! This is most likely caused by:\n\nNo transcripts were found for any of the requested language codes: ('en',)\n\nFor this video (DoDMH2-mlQA) transcripts are available in the following languages:\n\n(MANUALLY CREATED)\n - en-US (\"English (United States)\")[TRANSLATABLE]\n\n(GENERATED)\n - es (\"Spanish (auto-generated)\")[TRANSLATABLE]\n\n(TRANSLATION LANGUAGES)\n - af (\"Afrikaans\")\n - ak (\"Akan\")\n - sq (\"Albanian\")\n - am (\"Amharic\")\n - ar (\"Arabic\")\n - hy (\"Armenian\")\n - as (\"Assamese\")\n - ay (\"Aymara\")\n - az (\"Azerbaijani\")\n - bn (\"Bangla\")\n - eu (\"Basque\")\n - be (\"Belarusian\")\n - bho (\"Bhojpuri\")\n - bs (\"Bosnian\")\n - bg (\"Bulgarian\")\n - my (\"Burmese\")\n - ca (\"Catalan\")\n - ceb (\"Cebuano\")\n - zh-Hans (\"Chinese (Simplified)\")\n - zh-Hant (\"Chinese (Traditional)\")\n - co (\"Corsican\")\n - hr (\"Croatian\")\n - cs (\"Czech\")\n - da (\"Danish\")\n - dv (\"Divehi\")\n - nl (\"Dutch\")\n - en (\"English\")\n - eo (\"Esperanto\")\n - et (\"Estonian\")\n - ee (\"Ewe\")\n - fil (\"Filipino\")\n - fi (\"Finnish\")\n - fr (\"French\")\n - gl (\"Galician\")\n - lg (\"Ganda\")\n - ka (\"Georgian\")\n - de (\"German\")\n - el (\"Greek\")\n - gn (\"Guarani\")\n - gu (\"Gujarati\")\n - ht (\"Haitian Creole\")\n - ha (\"Hausa\")\n - haw (\"Hawaiian\")\n - iw (\"Hebrew\")\n - hi (\"Hindi\")\n - hmn (\"Hmong\")\n - hu (\"Hungarian\")\n - is (\"Icelandic\")\n - ig (\"Igbo\")\n - id (\"Indonesian\")\n - ga (\"Irish\")\n - it (\"Italian\")\n - ja (\"Japanese\")\n - jv (\"Javanese\")\n - kn (\"Kannada\")\n - kk (\"Kazakh\")\n - km (\"Khmer\")\n - rw (\"Kinyarwanda\")\n - ko (\"Korean\")\n - kri (\"Krio\")\n - ku (\"Kurdish\")\n - ky (\"Kyrgyz\")\n - lo (\"Lao\")\n - la (\"Latin\")\n - lv (\"Latvian\")\n - ln (\"Lingala\")\n - lt (\"Lithuanian\")\n - lb (\"Luxembourgish\")\n - mk (\"Macedonian\")\n - mg (\"Malagasy\")\n - ms (\"Malay\")\n - ml (\"Malayalam\")\n - mt (\"Maltese\")\n - mi (\"Māori\")\n - mr (\"Marathi\")\n - mn (\"Mongolian\")\n - ne (\"Nepali\")\n - nso (\"Northern Sotho\")\n - no (\"Norwegian\")\n - ny (\"Nyanja\")\n - or (\"Odia\")\n - om (\"Oromo\")\n - ps (\"Pashto\")\n - fa (\"Persian\")\n - pl (\"Polish\")\n - pt (\"Portuguese\")\n - pa (\"Punjabi\")\n - qu (\"Quechua\")\n - ro (\"Romanian\")\n - ru (\"Russian\")\n - sm (\"Samoan\")\n - sa (\"Sanskrit\")\n - gd (\"Scottish Gaelic\")\n - sr (\"Serbian\")\n - sn (\"Shona\")\n - sd (\"Sindhi\")\n - si (\"Sinhala\")\n - sk (\"Slovak\")\n - sl (\"Slovenian\")\n - so (\"Somali\")\n - st (\"Southern Sotho\")\n - es (\"Spanish\")\n - su (\"Sundanese\")\n - sw (\"Swahili\")\n - sv (\"Swedish\")\n - tg (\"Tajik\")\n - ta (\"Tamil\")\n - tt (\"Tatar\")\n - te (\"Telugu\")\n - th (\"Thai\")\n - ti (\"Tigrinya\")\n - ts (\"Tsonga\")\n - tr (\"Turkish\")\n - tk (\"Turkmen\")\n - uk (\"Ukrainian\")\n - ur (\"Urdu\")\n - ug (\"Uyghur\")\n - uz (\"Uzbek\")\n - vi (\"Vietnamese\")\n - cy (\"Welsh\")\n - fy (\"Western Frisian\")\n - xh (\"Xhosa\")\n - yi (\"Yiddish\")\n - yo (\"Yoruba\")\n - zu (\"Zulu\")\n\nIf you are sure that the described cause is not responsible for this error and that a transcript should be retrievable, please create an issue at https://github.com/jdepoix/youtube-transcript-api/issues. Please add which version of youtube_transcript_api you are using and provide the information needed to replicate the error. Also make sure that there are no open issues which already describe your problem!",
     "output_type": "error",
     "traceback": [
      "\u001b[1;31m---------------------------------------------------------------------------\u001b[0m",
      "\u001b[1;31mNoTranscriptFound\u001b[0m                         Traceback (most recent call last)",
      "\u001b[1;32m~\\AppData\\Local\\Temp\\ipykernel_40532\\3427317314.py\u001b[0m in \u001b[0;36m<module>\u001b[1;34m\u001b[0m\n\u001b[0;32m      5\u001b[0m \u001b[1;33m\u001b[0m\u001b[0m\n\u001b[0;32m      6\u001b[0m \u001b[1;31m# Obtiene la transcripción del video\u001b[0m\u001b[1;33m\u001b[0m\u001b[1;33m\u001b[0m\u001b[0m\n\u001b[1;32m----> 7\u001b[1;33m \u001b[0mtranscript\u001b[0m \u001b[1;33m=\u001b[0m \u001b[0mYouTubeTranscriptApi\u001b[0m\u001b[1;33m.\u001b[0m\u001b[0mget_transcript\u001b[0m\u001b[1;33m(\u001b[0m\u001b[0murl\u001b[0m\u001b[1;33m)\u001b[0m\u001b[1;33m\u001b[0m\u001b[1;33m\u001b[0m\u001b[0m\n\u001b[0m\u001b[0;32m      8\u001b[0m \u001b[1;33m\u001b[0m\u001b[0m\n\u001b[0;32m      9\u001b[0m \u001b[1;33m\u001b[0m\u001b[0m\n",
      "\u001b[1;32m~\\AppData\\Roaming\\Python\\Python39\\site-packages\\youtube_transcript_api\\_api.py\u001b[0m in \u001b[0;36mget_transcript\u001b[1;34m(cls, video_id, languages, proxies, cookies, preserve_formatting)\u001b[0m\n\u001b[0;32m    135\u001b[0m         \"\"\"\n\u001b[0;32m    136\u001b[0m         \u001b[1;32massert\u001b[0m \u001b[0misinstance\u001b[0m\u001b[1;33m(\u001b[0m\u001b[0mvideo_id\u001b[0m\u001b[1;33m,\u001b[0m \u001b[0mstr\u001b[0m\u001b[1;33m)\u001b[0m\u001b[1;33m,\u001b[0m \u001b[1;34m\"`video_id` must be a string\"\u001b[0m\u001b[1;33m\u001b[0m\u001b[1;33m\u001b[0m\u001b[0m\n\u001b[1;32m--> 137\u001b[1;33m         \u001b[1;32mreturn\u001b[0m \u001b[0mcls\u001b[0m\u001b[1;33m.\u001b[0m\u001b[0mlist_transcripts\u001b[0m\u001b[1;33m(\u001b[0m\u001b[0mvideo_id\u001b[0m\u001b[1;33m,\u001b[0m \u001b[0mproxies\u001b[0m\u001b[1;33m,\u001b[0m \u001b[0mcookies\u001b[0m\u001b[1;33m)\u001b[0m\u001b[1;33m.\u001b[0m\u001b[0mfind_transcript\u001b[0m\u001b[1;33m(\u001b[0m\u001b[0mlanguages\u001b[0m\u001b[1;33m)\u001b[0m\u001b[1;33m.\u001b[0m\u001b[0mfetch\u001b[0m\u001b[1;33m(\u001b[0m\u001b[0mpreserve_formatting\u001b[0m\u001b[1;33m=\u001b[0m\u001b[0mpreserve_formatting\u001b[0m\u001b[1;33m)\u001b[0m\u001b[1;33m\u001b[0m\u001b[1;33m\u001b[0m\u001b[0m\n\u001b[0m\u001b[0;32m    138\u001b[0m \u001b[1;33m\u001b[0m\u001b[0m\n\u001b[0;32m    139\u001b[0m     \u001b[1;33m@\u001b[0m\u001b[0mclassmethod\u001b[0m\u001b[1;33m\u001b[0m\u001b[1;33m\u001b[0m\u001b[0m\n",
      "\u001b[1;32m~\\AppData\\Roaming\\Python\\Python39\\site-packages\\youtube_transcript_api\\_transcripts.py\u001b[0m in \u001b[0;36mfind_transcript\u001b[1;34m(self, language_codes)\u001b[0m\n\u001b[0;32m    181\u001b[0m         \u001b[1;33m:\u001b[0m\u001b[0mraises\u001b[0m\u001b[1;33m:\u001b[0m \u001b[0mNoTranscriptFound\u001b[0m\u001b[1;33m\u001b[0m\u001b[1;33m\u001b[0m\u001b[0m\n\u001b[0;32m    182\u001b[0m         \"\"\"\n\u001b[1;32m--> 183\u001b[1;33m         \u001b[1;32mreturn\u001b[0m \u001b[0mself\u001b[0m\u001b[1;33m.\u001b[0m\u001b[0m_find_transcript\u001b[0m\u001b[1;33m(\u001b[0m\u001b[0mlanguage_codes\u001b[0m\u001b[1;33m,\u001b[0m \u001b[1;33m[\u001b[0m\u001b[0mself\u001b[0m\u001b[1;33m.\u001b[0m\u001b[0m_manually_created_transcripts\u001b[0m\u001b[1;33m,\u001b[0m \u001b[0mself\u001b[0m\u001b[1;33m.\u001b[0m\u001b[0m_generated_transcripts\u001b[0m\u001b[1;33m]\u001b[0m\u001b[1;33m)\u001b[0m\u001b[1;33m\u001b[0m\u001b[1;33m\u001b[0m\u001b[0m\n\u001b[0m\u001b[0;32m    184\u001b[0m \u001b[1;33m\u001b[0m\u001b[0m\n\u001b[0;32m    185\u001b[0m     \u001b[1;32mdef\u001b[0m \u001b[0mfind_generated_transcript\u001b[0m\u001b[1;33m(\u001b[0m\u001b[0mself\u001b[0m\u001b[1;33m,\u001b[0m \u001b[0mlanguage_codes\u001b[0m\u001b[1;33m)\u001b[0m\u001b[1;33m:\u001b[0m\u001b[1;33m\u001b[0m\u001b[1;33m\u001b[0m\u001b[0m\n",
      "\u001b[1;32m~\\AppData\\Roaming\\Python\\Python39\\site-packages\\youtube_transcript_api\\_transcripts.py\u001b[0m in \u001b[0;36m_find_transcript\u001b[1;34m(self, language_codes, transcript_dicts)\u001b[0m\n\u001b[0;32m    217\u001b[0m                     \u001b[1;32mreturn\u001b[0m \u001b[0mtranscript_dict\u001b[0m\u001b[1;33m[\u001b[0m\u001b[0mlanguage_code\u001b[0m\u001b[1;33m]\u001b[0m\u001b[1;33m\u001b[0m\u001b[1;33m\u001b[0m\u001b[0m\n\u001b[0;32m    218\u001b[0m \u001b[1;33m\u001b[0m\u001b[0m\n\u001b[1;32m--> 219\u001b[1;33m         raise NoTranscriptFound(\n\u001b[0m\u001b[0;32m    220\u001b[0m             \u001b[0mself\u001b[0m\u001b[1;33m.\u001b[0m\u001b[0mvideo_id\u001b[0m\u001b[1;33m,\u001b[0m\u001b[1;33m\u001b[0m\u001b[1;33m\u001b[0m\u001b[0m\n\u001b[0;32m    221\u001b[0m             \u001b[0mlanguage_codes\u001b[0m\u001b[1;33m,\u001b[0m\u001b[1;33m\u001b[0m\u001b[1;33m\u001b[0m\u001b[0m\n",
      "\u001b[1;31mNoTranscriptFound\u001b[0m: \nCould not retrieve a transcript for the video https://www.youtube.com/watch?v=DoDMH2-mlQA! This is most likely caused by:\n\nNo transcripts were found for any of the requested language codes: ('en',)\n\nFor this video (DoDMH2-mlQA) transcripts are available in the following languages:\n\n(MANUALLY CREATED)\n - en-US (\"English (United States)\")[TRANSLATABLE]\n\n(GENERATED)\n - es (\"Spanish (auto-generated)\")[TRANSLATABLE]\n\n(TRANSLATION LANGUAGES)\n - af (\"Afrikaans\")\n - ak (\"Akan\")\n - sq (\"Albanian\")\n - am (\"Amharic\")\n - ar (\"Arabic\")\n - hy (\"Armenian\")\n - as (\"Assamese\")\n - ay (\"Aymara\")\n - az (\"Azerbaijani\")\n - bn (\"Bangla\")\n - eu (\"Basque\")\n - be (\"Belarusian\")\n - bho (\"Bhojpuri\")\n - bs (\"Bosnian\")\n - bg (\"Bulgarian\")\n - my (\"Burmese\")\n - ca (\"Catalan\")\n - ceb (\"Cebuano\")\n - zh-Hans (\"Chinese (Simplified)\")\n - zh-Hant (\"Chinese (Traditional)\")\n - co (\"Corsican\")\n - hr (\"Croatian\")\n - cs (\"Czech\")\n - da (\"Danish\")\n - dv (\"Divehi\")\n - nl (\"Dutch\")\n - en (\"English\")\n - eo (\"Esperanto\")\n - et (\"Estonian\")\n - ee (\"Ewe\")\n - fil (\"Filipino\")\n - fi (\"Finnish\")\n - fr (\"French\")\n - gl (\"Galician\")\n - lg (\"Ganda\")\n - ka (\"Georgian\")\n - de (\"German\")\n - el (\"Greek\")\n - gn (\"Guarani\")\n - gu (\"Gujarati\")\n - ht (\"Haitian Creole\")\n - ha (\"Hausa\")\n - haw (\"Hawaiian\")\n - iw (\"Hebrew\")\n - hi (\"Hindi\")\n - hmn (\"Hmong\")\n - hu (\"Hungarian\")\n - is (\"Icelandic\")\n - ig (\"Igbo\")\n - id (\"Indonesian\")\n - ga (\"Irish\")\n - it (\"Italian\")\n - ja (\"Japanese\")\n - jv (\"Javanese\")\n - kn (\"Kannada\")\n - kk (\"Kazakh\")\n - km (\"Khmer\")\n - rw (\"Kinyarwanda\")\n - ko (\"Korean\")\n - kri (\"Krio\")\n - ku (\"Kurdish\")\n - ky (\"Kyrgyz\")\n - lo (\"Lao\")\n - la (\"Latin\")\n - lv (\"Latvian\")\n - ln (\"Lingala\")\n - lt (\"Lithuanian\")\n - lb (\"Luxembourgish\")\n - mk (\"Macedonian\")\n - mg (\"Malagasy\")\n - ms (\"Malay\")\n - ml (\"Malayalam\")\n - mt (\"Maltese\")\n - mi (\"Māori\")\n - mr (\"Marathi\")\n - mn (\"Mongolian\")\n - ne (\"Nepali\")\n - nso (\"Northern Sotho\")\n - no (\"Norwegian\")\n - ny (\"Nyanja\")\n - or (\"Odia\")\n - om (\"Oromo\")\n - ps (\"Pashto\")\n - fa (\"Persian\")\n - pl (\"Polish\")\n - pt (\"Portuguese\")\n - pa (\"Punjabi\")\n - qu (\"Quechua\")\n - ro (\"Romanian\")\n - ru (\"Russian\")\n - sm (\"Samoan\")\n - sa (\"Sanskrit\")\n - gd (\"Scottish Gaelic\")\n - sr (\"Serbian\")\n - sn (\"Shona\")\n - sd (\"Sindhi\")\n - si (\"Sinhala\")\n - sk (\"Slovak\")\n - sl (\"Slovenian\")\n - so (\"Somali\")\n - st (\"Southern Sotho\")\n - es (\"Spanish\")\n - su (\"Sundanese\")\n - sw (\"Swahili\")\n - sv (\"Swedish\")\n - tg (\"Tajik\")\n - ta (\"Tamil\")\n - tt (\"Tatar\")\n - te (\"Telugu\")\n - th (\"Thai\")\n - ti (\"Tigrinya\")\n - ts (\"Tsonga\")\n - tr (\"Turkish\")\n - tk (\"Turkmen\")\n - uk (\"Ukrainian\")\n - ur (\"Urdu\")\n - ug (\"Uyghur\")\n - uz (\"Uzbek\")\n - vi (\"Vietnamese\")\n - cy (\"Welsh\")\n - fy (\"Western Frisian\")\n - xh (\"Xhosa\")\n - yi (\"Yiddish\")\n - yo (\"Yoruba\")\n - zu (\"Zulu\")\n\nIf you are sure that the described cause is not responsible for this error and that a transcript should be retrievable, please create an issue at https://github.com/jdepoix/youtube-transcript-api/issues. Please add which version of youtube_transcript_api you are using and provide the information needed to replicate the error. Also make sure that there are no open issues which already describe your problem!"
     ]
    }
   ],
   "source": [
    "from youtube_transcript_api import YouTubeTranscriptApi\n",
    "\n",
    "# URL del video de YouTube del que deseas obtener la transcripción\n",
    "url = 'DoDMH2-mlQA'\n",
    "\n",
    "# Obtiene la transcripción del video\n",
    "transcript = YouTubeTranscriptApi.get_transcript(url)\n",
    "\n",
    "\n",
    "print(\n",
    "    transcript.video_id,\n",
    "    transcript.language,\n",
    "    transcript.language_code,\n",
    "    # whether it has been manually created or generated by YouTube\n",
    "    transcript.is_generated,\n",
    "    # whether this transcript can be translated or not\n",
    "    transcript.is_translatable,\n",
    "    # a list of languages the transcript can be translated to\n",
    "    transcript.translation_languages,\n",
    ")\n",
    "\n",
    "# Crea un archivo de texto para guardar la transcripción\n",
    "with open('transcripcion.txt', 'w', encoding='utf-8') as file:\n",
    "    for entry in transcript:\n",
    "        print(entry)\n",
    "        text = entry['text']\n",
    "        file.write(text + '\\n')\n",
    "\n",
    "print(\"Transcripción guardada en 'transcripcion.txt'\")"
   ]
  },
  {
   "cell_type": "code",
   "execution_count": 16,
   "id": "112d8a43",
   "metadata": {},
   "outputs": [
    {
     "name": "stdout",
     "output_type": "stream",
     "text": [
      "[{'text': 'WHAT’S IN A CANDLE FLAME?', 'start': 0.13, 'duration': 1.0}, {'text': 'https://youtu.be/a7_8Gc_Llr8', 'start': 1.13, 'duration': 1.0}, {'text': '0:01', 'start': 2.13, 'duration': 1.0}, {'text': 'De que está hecha en verdad la llama de una\\nvela?', 'start': 3.13, 'duration': 1.04}, {'text': 'Estoy en el Palacio de Descubrimiento en Paris\\npara hacer un experimento', 'start': 4.17, 'duration': 3.23}, {'text': 'Que hermosamente demuestra la respuesta.', 'start': 7.4, 'duration': 1.63}, {'text': 'Ese conductor estará cargado negativamente,\\ncierto?', 'start': 9.03, 'duration': 3.859}, {'text': 'Por el fenomeno conocido como induccion electrica', 'start': 12.889, 'duration': 2.051}, {'text': 'Este se volverá positivamente cargado.', 'start': 14.94, 'duration': 1.94}, {'text': 'Bien, estamos encendiendo un campo electrico', 'start': 16.88, 'duration': 2.0}, {'text': 'Y vemos que la llama se está esparciendo.', 'start': 18.88, 'duration': 2.1}, {'text': 'Si!', 'start': 20.98, 'duration': 1.0}, {'text': 'Cual es el voltaje aqui?', 'start': 21.98, 'duration': 2.16}, {'text': 'Debe ser unos 20.000', 'start': 24.14, 'duration': 1.589}, {'text': '20.000', 'start': 25.729, 'duration': 1.68}, {'text': '20.000 volteos', 'start': 27.409, 'duration': 1.62}, {'text': 'Puedes ver las mariposas, o no?', 'start': 29.029, 'duration': 3.221}, {'text': 'Mariposas?', 'start': 32.25, 'duration': 1.0}, {'text': 'Mariposas, hacen asi,', 'start': 33.25, 'duration': 1.0}, {'text': 'como una mariposa', 'start': 34.25, 'duration': 1.0}, {'text': 'Eso es muy lindo,', 'start': 35.25, 'duration': 1.22}, {'text': 'Es como una mariposa.', 'start': 36.47, 'duration': 1.64}, {'text': 'La llama es un plasma', 'start': 38.11, 'duration': 1.64}, {'text': 'Que contiene iones totalmente cargados.', 'start': 39.75, 'duration': 3.17}, {'text': 'Y puedes ver que la llama', 'start': 42.92, 'duration': 1.42}, {'text': 'Tiene dos piezas separadas ahora.', 'start': 44.34, 'duration': 3.28}, {'text': 'Una va hacia la placa negativa.', 'start': 47.62, 'duration': 1.59}, {'text': 'Estos serian los iones positivos,', 'start': 49.21, 'duration': 1.75}, {'text': 'Y los iones negativos irán hacia una placa\\ncargada positivamente.', 'start': 50.96, 'duration': 3.6}, {'text': 'Así que vemos que la llama mas o menos se\\naplana.', 'start': 54.56, 'duration': 1.41}, {'text': 'Pero si eso no te convence de que la llama\\ntiene iones,', 'start': 55.97, 'duration': 2.6}, {'text': 'entonces revisa la segunda parte del experimento', 'start': 58.57, 'duration': 2.4}, {'text': 'donde comparamos la conductividad de una llama', 'start': 60.97, 'duration': 2.359}, {'text': 'a la conectividad de aire,', 'start': 63.329, 'duration': 1.0}, {'text': 'que normalmente es un muy buen insulador.', 'start': 64.329, 'duration': 2.4}, {'text': 'Requiere unos 10,000 voltios para romper un\\ncentimetro de aire.', 'start': 66.729, 'duration': 2.881}, {'text': 'Asi que ahora mismo esta placa es de unos\\n20,000 Voltios.', 'start': 69.61, 'duration': 4.399}, {'text': 'Ven que la chispa es pequeña', 'start': 74.009, 'duration': 4.271}, {'text': 'pero si la pongo alrededor de la llama,', 'start': 78.28, 'duration': 1.82}, {'text': 'Veremos si podemos causar una chispa mas grande.', 'start': 80.1, 'duration': 1.659}, {'text': 'Mira eso, siiii!', 'start': 81.759, 'duration': 8.61}, {'text': 'Porque la llama tiene esos iones,', 'start': 90.369, 'duration': 1.5}, {'text': 'y eso significa que podemos romper', 'start': 91.869, 'duration': 2.18}, {'text': 'Una mayor distancia de aire.', 'start': 94.049, 'duration': 1.56}, {'text': 'Una mayor conductividad,', 'start': 95.609, 'duration': 2.71}, {'text': 'Siiiiii!', 'start': 98.319, 'duration': 1.61}, {'text': '(laugh)\\nEs asombroso!', 'start': 99.929, 'duration': 4.841}, {'text': 'Amas hacer esto, no?', 'start': 104.77, 'duration': 1.389}, {'text': '1:46', 'start': 106.159, 'duration': 1.0}, {'text': 'Un campo eléctrico con suficiente fuerza', 'start': 107.159, 'duration': 1.941}, {'text': 'puede en realidad extinguir la llama', 'start': 109.1, 'duration': 1.5}, {'text': 'Pero miren bien lo que pasa cuando se apaga\\nla llama.', 'start': 110.6, 'duration': 3.519}, {'text': 'Mire.', 'start': 114.119, 'duration': 1.0}, {'text': '-espera, espera-', 'start': 115.119, 'duration': 1.0}, {'text': 'Va muy bien.', 'start': 116.119, 'duration': 2.56}, {'text': 'Hay iones en el humo?', 'start': 118.679, 'duration': 3.68}, {'text': 'Si, completamente.', 'start': 122.359, 'duration': 1.451}, {'text': 'Justo como en la llama, las cargas opuestas\\nen el humo', 'start': 123.81, 'duration': 2.559}, {'text': 'Son llevadas en direcciones opuestas.', 'start': 126.369, 'duration': 2.75}, {'text': 'Así que aunque algunos discutan que una llama\\nno es', 'start': 129.119, 'duration': 2.191}, {'text': 'realmente un plasma porque no es tan cálida', 'start': 131.31, 'duration': 2.25}, {'text': 'y no tiene una densidad tan alta de iones,', 'start': 133.56, 'duration': 2.61}, {'text': 'una cosa es segura, si contiene iones', 'start': 136.17, 'duration': 2.05}, {'text': 'que tienen propiedades eléctricas importantes,', 'start': 138.22, 'duration': 2.34}, {'text': 'Las cuales puedes demostrar con un campo eléctrico\\nlo suficientemente fuerte.', 'start': 140.56, 'duration': 3.36}]\n"
     ]
    }
   ],
   "source": [
    "from youtube_transcript_api import YouTubeTranscriptApi\n",
    "\n",
    "# retrieve the available transcripts\n",
    "transcript_list = YouTubeTranscriptApi.list_transcripts('ZXcDb7JzClw')\n",
    "\n",
    "\n",
    "# iterate over all available transcripts\n",
    "\n",
    "\n",
    "for transcript in transcript_list:\n",
    "\n",
    "    # fetch the actual transcript data\n",
    "    print(transcript.fetch())\n",
    "    break\n",
    "\n"
   ]
  },
  {
   "cell_type": "code",
   "execution_count": null,
   "id": "4eae9fc5",
   "metadata": {},
   "outputs": [],
   "source": []
  }
 ],
 "metadata": {
  "kernelspec": {
   "display_name": "Python 3 (ipykernel)",
   "language": "python",
   "name": "python3"
  },
  "language_info": {
   "codemirror_mode": {
    "name": "ipython",
    "version": 3
   },
   "file_extension": ".py",
   "mimetype": "text/x-python",
   "name": "python",
   "nbconvert_exporter": "python",
   "pygments_lexer": "ipython3",
   "version": "3.9.13"
  }
 },
 "nbformat": 4,
 "nbformat_minor": 5
}
